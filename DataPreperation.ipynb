{
 "cells": [
  {
   "cell_type": "code",
   "execution_count": 1,
   "id": "95723bdb",
   "metadata": {},
   "outputs": [],
   "source": [
    "# Imports\n",
    "import pandas as pd\n",
    "import numpy as np\n",
    "import seaborn as sns\n",
    "import matplotlib.pyplot as plt\n",
    "import os"
   ]
  },
  {
   "cell_type": "code",
   "execution_count": 528,
   "id": "296114fe",
   "metadata": {},
   "outputs": [],
   "source": [
    "# # Read in data and create dataframe\n",
    "# file_names = []\n",
    "# path_of_the_directory= r'C:\\Users\\AnudeepAyinaparthi\\Desktop\\T20 Clustering Project\\Data\\t20s_male_csv2'\n",
    "# print(\"Files and directories in a specified path:\")\n",
    "# for filename in os.listdir(path_of_the_directory):\n",
    "#     f = os.path.join(path_of_the_directory,filename)\n",
    "#     if os.path.isfile(f) and 'info' in f:\n",
    "#         file_names.append(f)\n",
    "# df = pd.read_csv(file_names[0])\n",
    "# i = 0\n",
    "# for file in file_names[1:]:\n",
    "#     df1 = pd.read_csv(file)\n",
    "#     df = df.append(df1)\n",
    "    \n",
    "# df.reset_index(drop=True,inplace=True)\n",
    "\n",
    "# df.to_csv('T20_INFO.csv')"
   ]
  },
  {
   "cell_type": "code",
   "execution_count": 2,
   "id": "87c79c00",
   "metadata": {},
   "outputs": [],
   "source": [
    "# read in data\n",
    "df = pd.read_csv(r'C:\\Users\\AnudeepAyinaparthi\\Desktop\\T20 Clustering Project\\Data\\T20_all_matches.csv')"
   ]
  },
  {
   "cell_type": "code",
   "execution_count": 3,
   "id": "91816b9f",
   "metadata": {},
   "outputs": [
    {
     "data": {
      "text/html": [
       "<div>\n",
       "<style scoped>\n",
       "    .dataframe tbody tr th:only-of-type {\n",
       "        vertical-align: middle;\n",
       "    }\n",
       "\n",
       "    .dataframe tbody tr th {\n",
       "        vertical-align: top;\n",
       "    }\n",
       "\n",
       "    .dataframe thead th {\n",
       "        text-align: right;\n",
       "    }\n",
       "</style>\n",
       "<table border=\"1\" class=\"dataframe\">\n",
       "  <thead>\n",
       "    <tr style=\"text-align: right;\">\n",
       "      <th></th>\n",
       "      <th>match_id</th>\n",
       "      <th>season</th>\n",
       "      <th>start_date</th>\n",
       "      <th>venue</th>\n",
       "      <th>innings</th>\n",
       "      <th>ball</th>\n",
       "      <th>batting_team</th>\n",
       "      <th>bowling_team</th>\n",
       "      <th>striker</th>\n",
       "      <th>non_striker</th>\n",
       "      <th>...</th>\n",
       "      <th>extras</th>\n",
       "      <th>wides</th>\n",
       "      <th>noballs</th>\n",
       "      <th>byes</th>\n",
       "      <th>legbyes</th>\n",
       "      <th>penalty</th>\n",
       "      <th>wicket_type</th>\n",
       "      <th>player_dismissed</th>\n",
       "      <th>other_wicket_type</th>\n",
       "      <th>other_player_dismissed</th>\n",
       "    </tr>\n",
       "  </thead>\n",
       "  <tbody>\n",
       "    <tr>\n",
       "      <th>0</th>\n",
       "      <td>1001349</td>\n",
       "      <td>2016/17</td>\n",
       "      <td>2017-02-17</td>\n",
       "      <td>Melbourne Cricket Ground</td>\n",
       "      <td>1</td>\n",
       "      <td>0.1</td>\n",
       "      <td>Australia</td>\n",
       "      <td>Sri Lanka</td>\n",
       "      <td>AJ Finch</td>\n",
       "      <td>M Klinger</td>\n",
       "      <td>...</td>\n",
       "      <td>0</td>\n",
       "      <td>NaN</td>\n",
       "      <td>NaN</td>\n",
       "      <td>NaN</td>\n",
       "      <td>NaN</td>\n",
       "      <td>NaN</td>\n",
       "      <td>NaN</td>\n",
       "      <td>NaN</td>\n",
       "      <td>NaN</td>\n",
       "      <td>NaN</td>\n",
       "    </tr>\n",
       "    <tr>\n",
       "      <th>1</th>\n",
       "      <td>1001349</td>\n",
       "      <td>2016/17</td>\n",
       "      <td>2017-02-17</td>\n",
       "      <td>Melbourne Cricket Ground</td>\n",
       "      <td>1</td>\n",
       "      <td>0.2</td>\n",
       "      <td>Australia</td>\n",
       "      <td>Sri Lanka</td>\n",
       "      <td>AJ Finch</td>\n",
       "      <td>M Klinger</td>\n",
       "      <td>...</td>\n",
       "      <td>0</td>\n",
       "      <td>NaN</td>\n",
       "      <td>NaN</td>\n",
       "      <td>NaN</td>\n",
       "      <td>NaN</td>\n",
       "      <td>NaN</td>\n",
       "      <td>NaN</td>\n",
       "      <td>NaN</td>\n",
       "      <td>NaN</td>\n",
       "      <td>NaN</td>\n",
       "    </tr>\n",
       "    <tr>\n",
       "      <th>2</th>\n",
       "      <td>1001349</td>\n",
       "      <td>2016/17</td>\n",
       "      <td>2017-02-17</td>\n",
       "      <td>Melbourne Cricket Ground</td>\n",
       "      <td>1</td>\n",
       "      <td>0.3</td>\n",
       "      <td>Australia</td>\n",
       "      <td>Sri Lanka</td>\n",
       "      <td>AJ Finch</td>\n",
       "      <td>M Klinger</td>\n",
       "      <td>...</td>\n",
       "      <td>0</td>\n",
       "      <td>NaN</td>\n",
       "      <td>NaN</td>\n",
       "      <td>NaN</td>\n",
       "      <td>NaN</td>\n",
       "      <td>NaN</td>\n",
       "      <td>NaN</td>\n",
       "      <td>NaN</td>\n",
       "      <td>NaN</td>\n",
       "      <td>NaN</td>\n",
       "    </tr>\n",
       "    <tr>\n",
       "      <th>3</th>\n",
       "      <td>1001349</td>\n",
       "      <td>2016/17</td>\n",
       "      <td>2017-02-17</td>\n",
       "      <td>Melbourne Cricket Ground</td>\n",
       "      <td>1</td>\n",
       "      <td>0.4</td>\n",
       "      <td>Australia</td>\n",
       "      <td>Sri Lanka</td>\n",
       "      <td>M Klinger</td>\n",
       "      <td>AJ Finch</td>\n",
       "      <td>...</td>\n",
       "      <td>0</td>\n",
       "      <td>NaN</td>\n",
       "      <td>NaN</td>\n",
       "      <td>NaN</td>\n",
       "      <td>NaN</td>\n",
       "      <td>NaN</td>\n",
       "      <td>NaN</td>\n",
       "      <td>NaN</td>\n",
       "      <td>NaN</td>\n",
       "      <td>NaN</td>\n",
       "    </tr>\n",
       "    <tr>\n",
       "      <th>4</th>\n",
       "      <td>1001349</td>\n",
       "      <td>2016/17</td>\n",
       "      <td>2017-02-17</td>\n",
       "      <td>Melbourne Cricket Ground</td>\n",
       "      <td>1</td>\n",
       "      <td>0.5</td>\n",
       "      <td>Australia</td>\n",
       "      <td>Sri Lanka</td>\n",
       "      <td>M Klinger</td>\n",
       "      <td>AJ Finch</td>\n",
       "      <td>...</td>\n",
       "      <td>0</td>\n",
       "      <td>NaN</td>\n",
       "      <td>NaN</td>\n",
       "      <td>NaN</td>\n",
       "      <td>NaN</td>\n",
       "      <td>NaN</td>\n",
       "      <td>NaN</td>\n",
       "      <td>NaN</td>\n",
       "      <td>NaN</td>\n",
       "      <td>NaN</td>\n",
       "    </tr>\n",
       "  </tbody>\n",
       "</table>\n",
       "<p>5 rows × 22 columns</p>\n",
       "</div>"
      ],
      "text/plain": [
       "   match_id   season  start_date                     venue  innings  ball  \\\n",
       "0   1001349  2016/17  2017-02-17  Melbourne Cricket Ground        1   0.1   \n",
       "1   1001349  2016/17  2017-02-17  Melbourne Cricket Ground        1   0.2   \n",
       "2   1001349  2016/17  2017-02-17  Melbourne Cricket Ground        1   0.3   \n",
       "3   1001349  2016/17  2017-02-17  Melbourne Cricket Ground        1   0.4   \n",
       "4   1001349  2016/17  2017-02-17  Melbourne Cricket Ground        1   0.5   \n",
       "\n",
       "  batting_team bowling_team    striker non_striker  ... extras  wides  \\\n",
       "0    Australia    Sri Lanka   AJ Finch   M Klinger  ...      0    NaN   \n",
       "1    Australia    Sri Lanka   AJ Finch   M Klinger  ...      0    NaN   \n",
       "2    Australia    Sri Lanka   AJ Finch   M Klinger  ...      0    NaN   \n",
       "3    Australia    Sri Lanka  M Klinger    AJ Finch  ...      0    NaN   \n",
       "4    Australia    Sri Lanka  M Klinger    AJ Finch  ...      0    NaN   \n",
       "\n",
       "   noballs  byes  legbyes  penalty  wicket_type  player_dismissed  \\\n",
       "0      NaN   NaN      NaN      NaN          NaN               NaN   \n",
       "1      NaN   NaN      NaN      NaN          NaN               NaN   \n",
       "2      NaN   NaN      NaN      NaN          NaN               NaN   \n",
       "3      NaN   NaN      NaN      NaN          NaN               NaN   \n",
       "4      NaN   NaN      NaN      NaN          NaN               NaN   \n",
       "\n",
       "  other_wicket_type other_player_dismissed  \n",
       "0               NaN                    NaN  \n",
       "1               NaN                    NaN  \n",
       "2               NaN                    NaN  \n",
       "3               NaN                    NaN  \n",
       "4               NaN                    NaN  \n",
       "\n",
       "[5 rows x 22 columns]"
      ]
     },
     "execution_count": 3,
     "metadata": {},
     "output_type": "execute_result"
    }
   ],
   "source": [
    "# Display data\n",
    "df.head()"
   ]
  },
  {
   "cell_type": "markdown",
   "id": "e88d46f9",
   "metadata": {},
   "source": [
    "## EDA"
   ]
  },
  {
   "cell_type": "markdown",
   "id": "3e1d3dab",
   "metadata": {},
   "source": [
    "### Dates"
   ]
  },
  {
   "cell_type": "code",
   "execution_count": 4,
   "id": "a3cff24c",
   "metadata": {},
   "outputs": [],
   "source": [
    "# Convert to datetime\n",
    "df['start_date']  = pd.to_datetime(df['start_date'],infer_datetime_format=True)"
   ]
  },
  {
   "cell_type": "code",
   "execution_count": 5,
   "id": "6cea5670",
   "metadata": {},
   "outputs": [
    {
     "name": "stdout",
     "output_type": "stream",
     "text": [
      "The first match date is 2005-02-17 00:00:00 and the last match date is 2022-11-16 00:00:00\n"
     ]
    }
   ],
   "source": [
    "print(f\"The first match date is {df['start_date'].min()} and the last match date is {df['start_date'].max()}\")"
   ]
  },
  {
   "cell_type": "code",
   "execution_count": 6,
   "id": "1bf530b1",
   "metadata": {},
   "outputs": [],
   "source": [
    "## We will limit the data so that we only focus on T20 matches from the 2016 T20 WC onwards (After May 2016)\n",
    "df = df.loc[df['start_date']>='2016-05-01']"
   ]
  },
  {
   "cell_type": "markdown",
   "id": "945a87e4",
   "metadata": {},
   "source": [
    "### Completed Matches"
   ]
  },
  {
   "cell_type": "code",
   "execution_count": 7,
   "id": "f7a60245",
   "metadata": {},
   "outputs": [],
   "source": [
    "num_innings = df.groupby(['match_id'])['innings'].nunique().reset_index()"
   ]
  },
  {
   "cell_type": "code",
   "execution_count": 8,
   "id": "5fdfcbe0",
   "metadata": {},
   "outputs": [],
   "source": [
    "completed_matches = list(num_innings.loc[num_innings['innings']==2]['match_id'])"
   ]
  },
  {
   "cell_type": "code",
   "execution_count": 9,
   "id": "6791787f",
   "metadata": {},
   "outputs": [],
   "source": [
    "## Limit to matches where two innings are played\n",
    "num_innings = df.groupby(['match_id'])['innings'].nunique().reset_index()\n",
    "completed_matches = list(num_innings.loc[num_innings['innings']==2]['match_id'])\n",
    "df = df.loc[df['match_id'].isin(completed_matches)]"
   ]
  },
  {
   "cell_type": "code",
   "execution_count": 10,
   "id": "5cdeeecb",
   "metadata": {},
   "outputs": [],
   "source": [
    "df.reset_index(drop=True,inplace=True)"
   ]
  },
  {
   "cell_type": "markdown",
   "id": "6cd731bb",
   "metadata": {},
   "source": [
    "### Teams"
   ]
  },
  {
   "cell_type": "code",
   "execution_count": 11,
   "id": "17348a01",
   "metadata": {},
   "outputs": [
    {
     "data": {
      "text/plain": [
       "array(['Australia', 'Sri Lanka', 'Hong Kong', 'Ireland', 'Zimbabwe',\n",
       "       'India', 'Bangladesh', 'New Zealand', 'South Africa', 'England',\n",
       "       'West Indies', 'Afghanistan', 'Pakistan', 'United Arab Emirates',\n",
       "       'Scotland', 'Oman', 'Netherlands', 'Papua New Guinea',\n",
       "       'ICC World XI', 'Nepal', 'Philippines', 'Vanuatu',\n",
       "       'United States of America', 'Germany', 'Italy', 'Ghana', 'Namibia',\n",
       "       'Uganda', 'Botswana', 'Kenya', 'Nigeria', 'Guernsey', 'Denmark',\n",
       "       'Norway', 'Jersey', 'Thailand', 'Malaysia', 'Maldives',\n",
       "       'Singapore', 'Qatar', 'Kuwait', 'Bermuda', 'Canada',\n",
       "       'Cayman Islands', 'Portugal', 'Spain', 'Gibraltar', 'Bhutan',\n",
       "       'Saudi Arabia', 'Bahrain', 'Iran', 'Belgium', 'Luxembourg',\n",
       "       'Czech Republic', 'Isle of Man', 'Bulgaria', 'Romania', 'Austria',\n",
       "       'Greece', 'Serbia', 'Malta', 'France', 'Sweden', 'Rwanda',\n",
       "       'Finland', 'Hungary', 'Estonia', 'Cyprus', 'Switzerland',\n",
       "       'Swaziland', 'Lesotho', 'Seychelles', 'Malawi', 'Sierra Leone',\n",
       "       'Tanzania', 'Mozambique', 'Cameroon', 'Belize', 'Bahamas',\n",
       "       'Argentina', 'Panama', 'Israel', 'Turkey', 'Croatia', 'Slovenia',\n",
       "       'Cook Islands', 'Fiji', 'Samoa', 'Japan', 'Indonesia',\n",
       "       'South Korea'], dtype=object)"
      ]
     },
     "execution_count": 11,
     "metadata": {},
     "output_type": "execute_result"
    }
   ],
   "source": [
    "## Examine which teams have played matches\n",
    "df['batting_team'].unique()"
   ]
  },
  {
   "cell_type": "code",
   "execution_count": 12,
   "id": "eb976f9b",
   "metadata": {},
   "outputs": [
    {
     "data": {
      "text/plain": [
       "<AxesSubplot:xlabel='batting_team'>"
      ]
     },
     "execution_count": 12,
     "metadata": {},
     "output_type": "execute_result"
    },
    {
     "data": {
      "image/png": "[encoded data removed]",
      "text/plain": [
       "<Figure size 432x288 with 1 Axes>"
      ]
     },
     "metadata": {
      "needs_background": "light"
     },
     "output_type": "display_data"
    }
   ],
   "source": [
    "# How many games have the top 20 teams (by match frequency) played?\n",
    "pd.DataFrame(df.groupby(['batting_team'])['match_id'].nunique()).sort_values(ascending=False,by='match_id')[0:20].plot(kind='bar')"
   ]
  },
  {
   "cell_type": "code",
   "execution_count": 13,
   "id": "f21289ee",
   "metadata": {},
   "outputs": [],
   "source": [
    "## We will focus on the top 12 teams according to the latest ICC T20I rankings\n",
    "top_teams = pd.read_html('https://www.espncricinfo.com/rankings/content/page/211271.html')[2]['Team'].head(12)\n",
    "top_team_matches = list(df.loc[df['batting_team'].isin(top_teams)]['match_id'])\n",
    "df = df.loc[df['match_id'].isin(top_team_matches)]"
   ]
  },
  {
   "cell_type": "markdown",
   "id": "bc411f7c",
   "metadata": {},
   "source": [
    "### High Level Overview"
   ]
  },
  {
   "cell_type": "code",
   "execution_count": 14,
   "id": "8a66831b",
   "metadata": {},
   "outputs": [
    {
     "name": "stdout",
     "output_type": "stream",
     "text": [
      "During the specified time period, 555 matches have been played\n"
     ]
    }
   ],
   "source": [
    "print(f\"During the specified time period, {len(df['match_id'].unique())} matches have been played\")"
   ]
  },
  {
   "cell_type": "code",
   "execution_count": 15,
   "id": "c0c9acac",
   "metadata": {},
   "outputs": [
    {
     "data": {
      "text/plain": [
       "<AxesSubplot:xlabel='venue'>"
      ]
     },
     "execution_count": 15,
     "metadata": {},
     "output_type": "execute_result"
    },
    {
     "data": {
      "image/png": "[encoded data removed]",
      "text/plain": [
       "<Figure size 432x288 with 1 Axes>"
      ]
     },
     "metadata": {
      "needs_background": "light"
     },
     "output_type": "display_data"
    }
   ],
   "source": [
    "# Looking at which grounds have hosted the most matches\n",
    "df.groupby(['venue'])['match_id'].nunique().sort_values(ascending=False)[0:20].plot(kind='bar')"
   ]
  },
  {
   "cell_type": "markdown",
   "id": "8e66932d",
   "metadata": {},
   "source": [
    "## Create Match Level Data"
   ]
  },
  {
   "cell_type": "code",
   "execution_count": 17,
   "id": "11c70ce5",
   "metadata": {},
   "outputs": [],
   "source": [
    "# Create total runs columns by summing the 'runs_of_bat' and 'extras' columns\n",
    "df['total_runs'] = df['runs_off_bat'] + df['extras']"
   ]
  },
  {
   "cell_type": "code",
   "execution_count": 18,
   "id": "2d6c5f8a",
   "metadata": {},
   "outputs": [],
   "source": [
    "# Create wicket column indicating if a wicket occured on that delivery\n",
    "# Where wicket_type is null, set wicket column to 0\n",
    "df.loc[df['wicket_type'].isnull(),'wicket'] = 0\n",
    "# Imputate remaining fields with 1 to indicate that a wicket did occur\n",
    "df['wicket'].fillna(1,inplace=True)"
   ]
  },
  {
   "cell_type": "code",
   "execution_count": 46,
   "id": "ca40ac2b",
   "metadata": {},
   "outputs": [],
   "source": [
    "# Create match level data by aggregating on match_id and batting team\n",
    "df_match_level = df.groupby(['match_id','batting_team']).agg({\"ball\":\"max\", \"total_runs\":\"sum\",'wicket':\"sum\",'innings':\"max\",'start_date':'min'})"
   ]
  },
  {
   "cell_type": "code",
   "execution_count": 47,
   "id": "4d248ccc",
   "metadata": {},
   "outputs": [],
   "source": [
    "# Create match level data for powerplay by limiting data to deliveris in the powerplay and then aggregate to get powerplay\n",
    "# level data\n",
    "df_powerplay = df.loc[df['ball']<7]\n",
    "df_powerplay_agg = df_powerplay.groupby(['match_id','batting_team']).agg({\"ball\":\"max\", \"total_runs\":\"sum\",'wicket':\"sum\"})"
   ]
  },
  {
   "cell_type": "code",
   "execution_count": 48,
   "id": "3c9d3773",
   "metadata": {},
   "outputs": [],
   "source": [
    "# Join together match level and powerplay level data\n",
    "df_match_level = df_match_level.join(df_powerplay_agg, rsuffix='_powerplay').drop('ball_powerplay',axis=1)"
   ]
  },
  {
   "cell_type": "code",
   "execution_count": 49,
   "id": "fb95de24",
   "metadata": {},
   "outputs": [],
   "source": [
    "# Split the match level data into innings 1 and innings 2\n",
    "df_match_level_inn1 = df_match_level.loc[df_match_level['innings']==1].reset_index()\n",
    "df_match_level_inn2 = df_match_level.loc[df_match_level['innings']==2].reset_index()"
   ]
  },
  {
   "cell_type": "code",
   "execution_count": 50,
   "id": "84087567",
   "metadata": {},
   "outputs": [
    {
     "data": {
      "text/html": [
       "<div>\n",
       "<style scoped>\n",
       "    .dataframe tbody tr th:only-of-type {\n",
       "        vertical-align: middle;\n",
       "    }\n",
       "\n",
       "    .dataframe tbody tr th {\n",
       "        vertical-align: top;\n",
       "    }\n",
       "\n",
       "    .dataframe thead th {\n",
       "        text-align: right;\n",
       "    }\n",
       "</style>\n",
       "<table border=\"1\" class=\"dataframe\">\n",
       "  <thead>\n",
       "    <tr style=\"text-align: right;\">\n",
       "      <th></th>\n",
       "      <th>match_id</th>\n",
       "      <th>batting_team</th>\n",
       "      <th>ball</th>\n",
       "      <th>total_runs</th>\n",
       "      <th>wicket</th>\n",
       "      <th>innings</th>\n",
       "      <th>start_date</th>\n",
       "      <th>total_runs_powerplay</th>\n",
       "      <th>wicket_powerplay</th>\n",
       "    </tr>\n",
       "  </thead>\n",
       "  <tbody>\n",
       "    <tr>\n",
       "      <th>0</th>\n",
       "      <td>913633</td>\n",
       "      <td>Sri Lanka</td>\n",
       "      <td>19.6</td>\n",
       "      <td>140</td>\n",
       "      <td>10.0</td>\n",
       "      <td>1</td>\n",
       "      <td>2016-07-05</td>\n",
       "      <td>59</td>\n",
       "      <td>2.0</td>\n",
       "    </tr>\n",
       "    <tr>\n",
       "      <th>1</th>\n",
       "      <td>913663</td>\n",
       "      <td>England</td>\n",
       "      <td>19.6</td>\n",
       "      <td>135</td>\n",
       "      <td>7.0</td>\n",
       "      <td>1</td>\n",
       "      <td>2016-09-07</td>\n",
       "      <td>57</td>\n",
       "      <td>1.0</td>\n",
       "    </tr>\n",
       "    <tr>\n",
       "      <th>2</th>\n",
       "      <td>936153</td>\n",
       "      <td>South Africa</td>\n",
       "      <td>9.6</td>\n",
       "      <td>126</td>\n",
       "      <td>5.0</td>\n",
       "      <td>1</td>\n",
       "      <td>2017-01-20</td>\n",
       "      <td>74</td>\n",
       "      <td>3.0</td>\n",
       "    </tr>\n",
       "    <tr>\n",
       "      <th>3</th>\n",
       "      <td>936155</td>\n",
       "      <td>South Africa</td>\n",
       "      <td>19.3</td>\n",
       "      <td>113</td>\n",
       "      <td>10.0</td>\n",
       "      <td>1</td>\n",
       "      <td>2017-01-22</td>\n",
       "      <td>46</td>\n",
       "      <td>3.0</td>\n",
       "    </tr>\n",
       "    <tr>\n",
       "      <th>4</th>\n",
       "      <td>936157</td>\n",
       "      <td>South Africa</td>\n",
       "      <td>19.6</td>\n",
       "      <td>169</td>\n",
       "      <td>5.0</td>\n",
       "      <td>1</td>\n",
       "      <td>2017-01-25</td>\n",
       "      <td>55</td>\n",
       "      <td>1.0</td>\n",
       "    </tr>\n",
       "  </tbody>\n",
       "</table>\n",
       "</div>"
      ],
      "text/plain": [
       "   match_id  batting_team  ball  total_runs  wicket  innings start_date  \\\n",
       "0    913633     Sri Lanka  19.6         140    10.0        1 2016-07-05   \n",
       "1    913663       England  19.6         135     7.0        1 2016-09-07   \n",
       "2    936153  South Africa   9.6         126     5.0        1 2017-01-20   \n",
       "3    936155  South Africa  19.3         113    10.0        1 2017-01-22   \n",
       "4    936157  South Africa  19.6         169     5.0        1 2017-01-25   \n",
       "\n",
       "   total_runs_powerplay  wicket_powerplay  \n",
       "0                    59               2.0  \n",
       "1                    57               1.0  \n",
       "2                    74               3.0  \n",
       "3                    46               3.0  \n",
       "4                    55               1.0  "
      ]
     },
     "execution_count": 50,
     "metadata": {},
     "output_type": "execute_result"
    }
   ],
   "source": [
    "df_match_level_inn1.head()"
   ]
  },
  {
   "cell_type": "code",
   "execution_count": 51,
   "id": "89ab92c8",
   "metadata": {},
   "outputs": [
    {
     "data": {
      "text/html": [
       "<div>\n",
       "<style scoped>\n",
       "    .dataframe tbody tr th:only-of-type {\n",
       "        vertical-align: middle;\n",
       "    }\n",
       "\n",
       "    .dataframe tbody tr th {\n",
       "        vertical-align: top;\n",
       "    }\n",
       "\n",
       "    .dataframe thead th {\n",
       "        text-align: right;\n",
       "    }\n",
       "</style>\n",
       "<table border=\"1\" class=\"dataframe\">\n",
       "  <thead>\n",
       "    <tr style=\"text-align: right;\">\n",
       "      <th></th>\n",
       "      <th>match_id</th>\n",
       "      <th>batting_team</th>\n",
       "      <th>ball</th>\n",
       "      <th>total_runs</th>\n",
       "      <th>wicket</th>\n",
       "      <th>innings</th>\n",
       "      <th>start_date</th>\n",
       "      <th>total_runs_powerplay</th>\n",
       "      <th>wicket_powerplay</th>\n",
       "    </tr>\n",
       "  </thead>\n",
       "  <tbody>\n",
       "    <tr>\n",
       "      <th>0</th>\n",
       "      <td>913633</td>\n",
       "      <td>England</td>\n",
       "      <td>17.3</td>\n",
       "      <td>144</td>\n",
       "      <td>2.0</td>\n",
       "      <td>2</td>\n",
       "      <td>2016-07-05</td>\n",
       "      <td>47</td>\n",
       "      <td>2.0</td>\n",
       "    </tr>\n",
       "    <tr>\n",
       "      <th>1</th>\n",
       "      <td>913663</td>\n",
       "      <td>Pakistan</td>\n",
       "      <td>14.5</td>\n",
       "      <td>139</td>\n",
       "      <td>1.0</td>\n",
       "      <td>2</td>\n",
       "      <td>2016-09-07</td>\n",
       "      <td>77</td>\n",
       "      <td>0.0</td>\n",
       "    </tr>\n",
       "    <tr>\n",
       "      <th>2</th>\n",
       "      <td>936153</td>\n",
       "      <td>Sri Lanka</td>\n",
       "      <td>9.6</td>\n",
       "      <td>107</td>\n",
       "      <td>6.0</td>\n",
       "      <td>2</td>\n",
       "      <td>2017-01-20</td>\n",
       "      <td>87</td>\n",
       "      <td>3.0</td>\n",
       "    </tr>\n",
       "    <tr>\n",
       "      <th>3</th>\n",
       "      <td>936155</td>\n",
       "      <td>Sri Lanka</td>\n",
       "      <td>19.4</td>\n",
       "      <td>119</td>\n",
       "      <td>7.0</td>\n",
       "      <td>2</td>\n",
       "      <td>2017-01-22</td>\n",
       "      <td>44</td>\n",
       "      <td>3.0</td>\n",
       "    </tr>\n",
       "    <tr>\n",
       "      <th>4</th>\n",
       "      <td>936157</td>\n",
       "      <td>Sri Lanka</td>\n",
       "      <td>19.5</td>\n",
       "      <td>170</td>\n",
       "      <td>5.0</td>\n",
       "      <td>2</td>\n",
       "      <td>2017-01-25</td>\n",
       "      <td>55</td>\n",
       "      <td>2.0</td>\n",
       "    </tr>\n",
       "  </tbody>\n",
       "</table>\n",
       "</div>"
      ],
      "text/plain": [
       "   match_id batting_team  ball  total_runs  wicket  innings start_date  \\\n",
       "0    913633      England  17.3         144     2.0        2 2016-07-05   \n",
       "1    913663     Pakistan  14.5         139     1.0        2 2016-09-07   \n",
       "2    936153    Sri Lanka   9.6         107     6.0        2 2017-01-20   \n",
       "3    936155    Sri Lanka  19.4         119     7.0        2 2017-01-22   \n",
       "4    936157    Sri Lanka  19.5         170     5.0        2 2017-01-25   \n",
       "\n",
       "   total_runs_powerplay  wicket_powerplay  \n",
       "0                    47               2.0  \n",
       "1                    77               0.0  \n",
       "2                    87               3.0  \n",
       "3                    44               3.0  \n",
       "4                    55               2.0  "
      ]
     },
     "execution_count": 51,
     "metadata": {},
     "output_type": "execute_result"
    }
   ],
   "source": [
    "df_match_level_inn2.head()"
   ]
  },
  {
   "cell_type": "code",
   "execution_count": 54,
   "id": "fde16686",
   "metadata": {},
   "outputs": [],
   "source": [
    "# Join together df_match_level_inn1 and df_match_level_inn2 tables to create a table that contains all information \n",
    "# for a match on one row\n",
    "df_final = df_match_level_inn1.join(df_match_level_inn2, rsuffix='_inn2').drop(['match_id_inn2','innings','innings_inn2','start_date_inn2'],axis=1)"
   ]
  },
  {
   "cell_type": "code",
   "execution_count": 55,
   "id": "af93ebd9",
   "metadata": {},
   "outputs": [
    {
     "data": {
      "text/html": [
       "<div>\n",
       "<style scoped>\n",
       "    .dataframe tbody tr th:only-of-type {\n",
       "        vertical-align: middle;\n",
       "    }\n",
       "\n",
       "    .dataframe tbody tr th {\n",
       "        vertical-align: top;\n",
       "    }\n",
       "\n",
       "    .dataframe thead th {\n",
       "        text-align: right;\n",
       "    }\n",
       "</style>\n",
       "<table border=\"1\" class=\"dataframe\">\n",
       "  <thead>\n",
       "    <tr style=\"text-align: right;\">\n",
       "      <th></th>\n",
       "      <th>match_id</th>\n",
       "      <th>batting_team</th>\n",
       "      <th>ball</th>\n",
       "      <th>total_runs</th>\n",
       "      <th>wicket</th>\n",
       "      <th>start_date</th>\n",
       "      <th>total_runs_powerplay</th>\n",
       "      <th>wicket_powerplay</th>\n",
       "      <th>batting_team_inn2</th>\n",
       "      <th>ball_inn2</th>\n",
       "      <th>total_runs_inn2</th>\n",
       "      <th>wicket_inn2</th>\n",
       "      <th>total_runs_powerplay_inn2</th>\n",
       "      <th>wicket_powerplay_inn2</th>\n",
       "    </tr>\n",
       "  </thead>\n",
       "  <tbody>\n",
       "    <tr>\n",
       "      <th>0</th>\n",
       "      <td>913633</td>\n",
       "      <td>Sri Lanka</td>\n",
       "      <td>19.6</td>\n",
       "      <td>140</td>\n",
       "      <td>10.0</td>\n",
       "      <td>2016-07-05</td>\n",
       "      <td>59</td>\n",
       "      <td>2.0</td>\n",
       "      <td>England</td>\n",
       "      <td>17.3</td>\n",
       "      <td>144</td>\n",
       "      <td>2.0</td>\n",
       "      <td>47</td>\n",
       "      <td>2.0</td>\n",
       "    </tr>\n",
       "  </tbody>\n",
       "</table>\n",
       "</div>"
      ],
      "text/plain": [
       "   match_id batting_team  ball  total_runs  wicket start_date  \\\n",
       "0    913633    Sri Lanka  19.6         140    10.0 2016-07-05   \n",
       "\n",
       "   total_runs_powerplay  wicket_powerplay batting_team_inn2  ball_inn2  \\\n",
       "0                    59               2.0           England       17.3   \n",
       "\n",
       "   total_runs_inn2  wicket_inn2  total_runs_powerplay_inn2  \\\n",
       "0              144          2.0                         47   \n",
       "\n",
       "   wicket_powerplay_inn2  \n",
       "0                    2.0  "
      ]
     },
     "execution_count": 55,
     "metadata": {},
     "output_type": "execute_result"
    }
   ],
   "source": [
    "df_final.head(1)"
   ]
  },
  {
   "cell_type": "code",
   "execution_count": 56,
   "id": "8d8ca4dc",
   "metadata": {},
   "outputs": [],
   "source": [
    "# Save table\n",
    "df_final.to_csv(r'C:\\Users\\AnudeepAyinaparthi\\Desktop\\T20 Clustering Project\\Data\\df_final_cluster_match.csv',index=False,header=True)"
   ]
  }
 ],
 "metadata": {
  "kernelspec": {
   "display_name": "Python 3 (ipykernel)",
   "language": "python",
   "name": "python3"
  },
  "language_info": {
   "codemirror_mode": {
    "name": "ipython",
    "version": 3
   },
   "file_extension": ".py",
   "mimetype": "text/x-python",
   "name": "python",
   "nbconvert_exporter": "python",
   "pygments_lexer": "ipython3",
   "version": "3.9.7"
  }
 },
 "nbformat": 4,
 "nbformat_minor": 5
}
