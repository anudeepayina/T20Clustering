{
 "cells": [
  {
   "cell_type": "code",
   "execution_count": 1,
   "id": "4db8270a",
   "metadata": {},
   "outputs": [],
   "source": [
    "# Import Libraries\n",
    "import pandas as pd\n",
    "import numpy as np\n",
    "import matplotlib.pyplot as plt\n",
    "import seaborn as sns\n",
    "from scipy import stats"
   ]
  },
  {
   "cell_type": "markdown",
   "id": "06a7ec07",
   "metadata": {},
   "source": [
    "## Load Data"
   ]
  },
  {
   "cell_type": "code",
   "execution_count": 2,
   "id": "82935379",
   "metadata": {},
   "outputs": [],
   "source": [
    "df_cluster_data = pd.read_csv(r'C:\\Users\\AnudeepAyinaparthi\\Desktop\\T20 Clustering Project\\Data\\df_final_cluster_match.csv')\n",
    "df_all_matches = pd.read_csv(r'C:\\Users\\AnudeepAyinaparthi\\Desktop\\T20 Clustering Project\\Data\\T20_all_matches.csv')"
   ]
  },
  {
   "cell_type": "code",
   "execution_count": 3,
   "id": "3ed57a47",
   "metadata": {},
   "outputs": [],
   "source": [
    "df_cluster = df_cluster_data.copy()"
   ]
  },
  {
   "cell_type": "code",
   "execution_count": 4,
   "id": "14445610",
   "metadata": {},
   "outputs": [
    {
     "data": {
      "text/html": [
       "<div>\n",
       "<style scoped>\n",
       "    .dataframe tbody tr th:only-of-type {\n",
       "        vertical-align: middle;\n",
       "    }\n",
       "\n",
       "    .dataframe tbody tr th {\n",
       "        vertical-align: top;\n",
       "    }\n",
       "\n",
       "    .dataframe thead th {\n",
       "        text-align: right;\n",
       "    }\n",
       "</style>\n",
       "<table border=\"1\" class=\"dataframe\">\n",
       "  <thead>\n",
       "    <tr style=\"text-align: right;\">\n",
       "      <th></th>\n",
       "      <th>match_id</th>\n",
       "      <th>batting_team</th>\n",
       "      <th>ball</th>\n",
       "      <th>total_runs</th>\n",
       "      <th>wicket</th>\n",
       "      <th>start_date</th>\n",
       "      <th>total_runs_powerplay</th>\n",
       "      <th>wicket_powerplay</th>\n",
       "      <th>batting_team_inn2</th>\n",
       "      <th>ball_inn2</th>\n",
       "      <th>total_runs_inn2</th>\n",
       "      <th>wicket_inn2</th>\n",
       "      <th>total_runs_powerplay_inn2</th>\n",
       "      <th>wicket_powerplay_inn2</th>\n",
       "      <th>bat_first_win</th>\n",
       "    </tr>\n",
       "  </thead>\n",
       "  <tbody>\n",
       "    <tr>\n",
       "      <th>0</th>\n",
       "      <td>913633</td>\n",
       "      <td>Sri Lanka</td>\n",
       "      <td>19.6</td>\n",
       "      <td>140</td>\n",
       "      <td>10.0</td>\n",
       "      <td>2016-07-05</td>\n",
       "      <td>59</td>\n",
       "      <td>2.0</td>\n",
       "      <td>England</td>\n",
       "      <td>17.3</td>\n",
       "      <td>144</td>\n",
       "      <td>2.0</td>\n",
       "      <td>47</td>\n",
       "      <td>2.0</td>\n",
       "      <td>0.0</td>\n",
       "    </tr>\n",
       "    <tr>\n",
       "      <th>1</th>\n",
       "      <td>913663</td>\n",
       "      <td>England</td>\n",
       "      <td>19.6</td>\n",
       "      <td>135</td>\n",
       "      <td>7.0</td>\n",
       "      <td>2016-09-07</td>\n",
       "      <td>57</td>\n",
       "      <td>1.0</td>\n",
       "      <td>Pakistan</td>\n",
       "      <td>14.5</td>\n",
       "      <td>139</td>\n",
       "      <td>1.0</td>\n",
       "      <td>77</td>\n",
       "      <td>0.0</td>\n",
       "      <td>0.0</td>\n",
       "    </tr>\n",
       "    <tr>\n",
       "      <th>2</th>\n",
       "      <td>936155</td>\n",
       "      <td>South Africa</td>\n",
       "      <td>19.3</td>\n",
       "      <td>113</td>\n",
       "      <td>10.0</td>\n",
       "      <td>2017-01-22</td>\n",
       "      <td>46</td>\n",
       "      <td>3.0</td>\n",
       "      <td>Sri Lanka</td>\n",
       "      <td>19.4</td>\n",
       "      <td>119</td>\n",
       "      <td>7.0</td>\n",
       "      <td>44</td>\n",
       "      <td>3.0</td>\n",
       "      <td>0.0</td>\n",
       "    </tr>\n",
       "    <tr>\n",
       "      <th>3</th>\n",
       "      <td>936157</td>\n",
       "      <td>South Africa</td>\n",
       "      <td>19.6</td>\n",
       "      <td>169</td>\n",
       "      <td>5.0</td>\n",
       "      <td>2017-01-25</td>\n",
       "      <td>55</td>\n",
       "      <td>1.0</td>\n",
       "      <td>Sri Lanka</td>\n",
       "      <td>19.5</td>\n",
       "      <td>170</td>\n",
       "      <td>5.0</td>\n",
       "      <td>55</td>\n",
       "      <td>2.0</td>\n",
       "      <td>0.0</td>\n",
       "    </tr>\n",
       "    <tr>\n",
       "      <th>4</th>\n",
       "      <td>995467</td>\n",
       "      <td>Australia</td>\n",
       "      <td>19.6</td>\n",
       "      <td>263</td>\n",
       "      <td>3.0</td>\n",
       "      <td>2016-09-06</td>\n",
       "      <td>81</td>\n",
       "      <td>1.0</td>\n",
       "      <td>Sri Lanka</td>\n",
       "      <td>19.6</td>\n",
       "      <td>178</td>\n",
       "      <td>9.0</td>\n",
       "      <td>67</td>\n",
       "      <td>3.0</td>\n",
       "      <td>1.0</td>\n",
       "    </tr>\n",
       "  </tbody>\n",
       "</table>\n",
       "</div>"
      ],
      "text/plain": [
       "   match_id  batting_team  ball  total_runs  wicket  start_date  \\\n",
       "0    913633     Sri Lanka  19.6         140    10.0  2016-07-05   \n",
       "1    913663       England  19.6         135     7.0  2016-09-07   \n",
       "2    936155  South Africa  19.3         113    10.0  2017-01-22   \n",
       "3    936157  South Africa  19.6         169     5.0  2017-01-25   \n",
       "4    995467     Australia  19.6         263     3.0  2016-09-06   \n",
       "\n",
       "   total_runs_powerplay  wicket_powerplay batting_team_inn2  ball_inn2  \\\n",
       "0                    59               2.0           England       17.3   \n",
       "1                    57               1.0          Pakistan       14.5   \n",
       "2                    46               3.0         Sri Lanka       19.4   \n",
       "3                    55               1.0         Sri Lanka       19.5   \n",
       "4                    81               1.0         Sri Lanka       19.6   \n",
       "\n",
       "   total_runs_inn2  wicket_inn2  total_runs_powerplay_inn2  \\\n",
       "0              144          2.0                         47   \n",
       "1              139          1.0                         77   \n",
       "2              119          7.0                         44   \n",
       "3              170          5.0                         55   \n",
       "4              178          9.0                         67   \n",
       "\n",
       "   wicket_powerplay_inn2  bat_first_win  \n",
       "0                    2.0            0.0  \n",
       "1                    0.0            0.0  \n",
       "2                    3.0            0.0  \n",
       "3                    2.0            0.0  \n",
       "4                    3.0            1.0  "
      ]
     },
     "execution_count": 4,
     "metadata": {},
     "output_type": "execute_result"
    }
   ],
   "source": [
    "df_cluster.head()"
   ]
  },
  {
   "cell_type": "code",
   "execution_count": 5,
   "id": "6bd2bf89",
   "metadata": {},
   "outputs": [],
   "source": [
    "# Drop columns which will not be used for clustering\n",
    "df_cluster.drop(columns=['match_id','batting_team_inn2','batting_team','start_date'],inplace=True)"
   ]
  },
  {
   "cell_type": "markdown",
   "id": "1aae2b8e",
   "metadata": {},
   "source": [
    "## Check for null values"
   ]
  },
  {
   "cell_type": "code",
   "execution_count": 6,
   "id": "b5f5db84",
   "metadata": {},
   "outputs": [
    {
     "data": {
      "text/plain": [
       "ball                         0\n",
       "total_runs                   0\n",
       "wicket                       0\n",
       "total_runs_powerplay         0\n",
       "wicket_powerplay             0\n",
       "ball_inn2                    0\n",
       "total_runs_inn2              0\n",
       "wicket_inn2                  0\n",
       "total_runs_powerplay_inn2    0\n",
       "wicket_powerplay_inn2        0\n",
       "bat_first_win                0\n",
       "dtype: int64"
      ]
     },
     "execution_count": 6,
     "metadata": {},
     "output_type": "execute_result"
    }
   ],
   "source": [
    "df_cluster.isnull().sum()"
   ]
  },
  {
   "cell_type": "code",
   "execution_count": 7,
   "id": "d1ba414c",
   "metadata": {},
   "outputs": [
    {
     "data": {
      "text/plain": [
       "0"
      ]
     },
     "execution_count": 7,
     "metadata": {},
     "output_type": "execute_result"
    }
   ],
   "source": [
    "## Check for infinite values\n",
    "np.isinf(df_cluster).values.sum()"
   ]
  },
  {
   "cell_type": "markdown",
   "id": "f1491d7c",
   "metadata": {},
   "source": [
    "## Date Preprocessing"
   ]
  },
  {
   "cell_type": "code",
   "execution_count": 8,
   "id": "3ced3c9c",
   "metadata": {},
   "outputs": [
    {
     "data": {
      "image/png": "[encoded data removed]",
      "text/plain": [
       "<Figure size 360x360 with 1 Axes>"
      ]
     },
     "metadata": {
      "needs_background": "light"
     },
     "output_type": "display_data"
    },
    {
     "data": {
      "image/png": "[encoded data removed]",
      "text/plain": [
       "<Figure size 360x360 with 1 Axes>"
      ]
     },
     "metadata": {
      "needs_background": "light"
     },
     "output_type": "display_data"
    },
    {
     "data": {
      "image/png": "[encoded data removed]",
      "text/plain": [
       "<Figure size 360x360 with 1 Axes>"
      ]
     },
     "metadata": {
      "needs_background": "light"
     },
     "output_type": "display_data"
    },
    {
     "data": {
      "image/png": "[encoded data removed]",
      "text/plain": [
       "<Figure size 360x360 with 1 Axes>"
      ]
     },
     "metadata": {
      "needs_background": "light"
     },
     "output_type": "display_data"
    },
    {
     "data": {
      "image/png": "[encoded data removed]",
      "text/plain": [
       "<Figure size 360x360 with 1 Axes>"
      ]
     },
     "metadata": {
      "needs_background": "light"
     },
     "output_type": "display_data"
    },
    {
     "data": {
      "image/png": "[encoded data removed]",
      "text/plain": [
       "<Figure size 360x360 with 1 Axes>"
      ]
     },
     "metadata": {
      "needs_background": "light"
     },
     "output_type": "display_data"
    },
    {
     "data": {
      "image/png": "[encoded data removed]",
      "text/plain": [
       "<Figure size 360x360 with 1 Axes>"
      ]
     },
     "metadata": {
      "needs_background": "light"
     },
     "output_type": "display_data"
    },
    {
     "data": {
      "image/png": "[encoded data removed]",
      "text/plain": [
       "<Figure size 360x360 with 1 Axes>"
      ]
     },
     "metadata": {
      "needs_background": "light"
     },
     "output_type": "display_data"
    },
    {
     "data": {
      "image/png": "[encoded data removed]",
      "text/plain": [
       "<Figure size 360x360 with 1 Axes>"
      ]
     },
     "metadata": {
      "needs_background": "light"
     },
     "output_type": "display_data"
    },
    {
     "data": {
      "image/png": "[encoded data removed]",
      "text/plain": [
       "<Figure size 360x360 with 1 Axes>"
      ]
     },
     "metadata": {
      "needs_background": "light"
     },
     "output_type": "display_data"
    },
    {
     "data": {
      "image/png": "[encoded data removed]",
      "text/plain": [
       "<Figure size 360x360 with 1 Axes>"
      ]
     },
     "metadata": {
      "needs_background": "light"
     },
     "output_type": "display_data"
    }
   ],
   "source": [
    "# Number of balls in the first and second innings are Left Tailed so I will have to transform them. Wickets in innings 2 is\n",
    "# also unsymmetrical so I will need to transform it. I will transform wickets innings 1 as well to keep it consistent. The\n",
    "# rest of the columns have a fairly symmetrical, normal distribution.\n",
    "for col in df_cluster.columns:\n",
    "    sns.displot(df_cluster[col])"
   ]
  },
  {
   "cell_type": "code",
   "execution_count": 9,
   "id": "cd0c579f",
   "metadata": {},
   "outputs": [
    {
     "data": {
      "text/html": [
       "<div>\n",
       "<style scoped>\n",
       "    .dataframe tbody tr th:only-of-type {\n",
       "        vertical-align: middle;\n",
       "    }\n",
       "\n",
       "    .dataframe tbody tr th {\n",
       "        vertical-align: top;\n",
       "    }\n",
       "\n",
       "    .dataframe thead th {\n",
       "        text-align: right;\n",
       "    }\n",
       "</style>\n",
       "<table border=\"1\" class=\"dataframe\">\n",
       "  <thead>\n",
       "    <tr style=\"text-align: right;\">\n",
       "      <th></th>\n",
       "      <th>ball</th>\n",
       "      <th>total_runs</th>\n",
       "      <th>wicket</th>\n",
       "      <th>total_runs_powerplay</th>\n",
       "      <th>wicket_powerplay</th>\n",
       "      <th>ball_inn2</th>\n",
       "      <th>total_runs_inn2</th>\n",
       "      <th>wicket_inn2</th>\n",
       "      <th>total_runs_powerplay_inn2</th>\n",
       "      <th>wicket_powerplay_inn2</th>\n",
       "      <th>bat_first_win</th>\n",
       "    </tr>\n",
       "  </thead>\n",
       "  <tbody>\n",
       "    <tr>\n",
       "      <th>count</th>\n",
       "      <td>543.000000</td>\n",
       "      <td>543.000000</td>\n",
       "      <td>543.000000</td>\n",
       "      <td>543.000000</td>\n",
       "      <td>543.000000</td>\n",
       "      <td>543.000000</td>\n",
       "      <td>543.000000</td>\n",
       "      <td>543.000000</td>\n",
       "      <td>543.000000</td>\n",
       "      <td>543.000000</td>\n",
       "      <td>543.000000</td>\n",
       "    </tr>\n",
       "    <tr>\n",
       "      <th>mean</th>\n",
       "      <td>19.477532</td>\n",
       "      <td>163.239411</td>\n",
       "      <td>6.440147</td>\n",
       "      <td>52.953959</td>\n",
       "      <td>1.694291</td>\n",
       "      <td>17.876243</td>\n",
       "      <td>142.979742</td>\n",
       "      <td>6.121547</td>\n",
       "      <td>52.926335</td>\n",
       "      <td>1.953959</td>\n",
       "      <td>0.534070</td>\n",
       "    </tr>\n",
       "    <tr>\n",
       "      <th>std</th>\n",
       "      <td>0.823531</td>\n",
       "      <td>34.237958</td>\n",
       "      <td>2.071510</td>\n",
       "      <td>13.220236</td>\n",
       "      <td>1.188236</td>\n",
       "      <td>2.643157</td>\n",
       "      <td>32.498220</td>\n",
       "      <td>2.963486</td>\n",
       "      <td>14.581939</td>\n",
       "      <td>1.297065</td>\n",
       "      <td>0.499298</td>\n",
       "    </tr>\n",
       "    <tr>\n",
       "      <th>min</th>\n",
       "      <td>9.600000</td>\n",
       "      <td>44.000000</td>\n",
       "      <td>2.000000</td>\n",
       "      <td>21.000000</td>\n",
       "      <td>0.000000</td>\n",
       "      <td>1.600000</td>\n",
       "      <td>15.000000</td>\n",
       "      <td>0.000000</td>\n",
       "      <td>15.000000</td>\n",
       "      <td>0.000000</td>\n",
       "      <td>0.000000</td>\n",
       "    </tr>\n",
       "    <tr>\n",
       "      <th>25%</th>\n",
       "      <td>19.600000</td>\n",
       "      <td>142.000000</td>\n",
       "      <td>5.000000</td>\n",
       "      <td>44.000000</td>\n",
       "      <td>1.000000</td>\n",
       "      <td>17.200000</td>\n",
       "      <td>125.000000</td>\n",
       "      <td>4.000000</td>\n",
       "      <td>42.000000</td>\n",
       "      <td>1.000000</td>\n",
       "      <td>0.000000</td>\n",
       "    </tr>\n",
       "    <tr>\n",
       "      <th>50%</th>\n",
       "      <td>19.600000</td>\n",
       "      <td>163.000000</td>\n",
       "      <td>6.000000</td>\n",
       "      <td>52.000000</td>\n",
       "      <td>2.000000</td>\n",
       "      <td>19.100000</td>\n",
       "      <td>144.000000</td>\n",
       "      <td>6.000000</td>\n",
       "      <td>52.000000</td>\n",
       "      <td>2.000000</td>\n",
       "      <td>1.000000</td>\n",
       "    </tr>\n",
       "    <tr>\n",
       "      <th>75%</th>\n",
       "      <td>19.600000</td>\n",
       "      <td>185.000000</td>\n",
       "      <td>8.000000</td>\n",
       "      <td>61.000000</td>\n",
       "      <td>2.000000</td>\n",
       "      <td>19.600000</td>\n",
       "      <td>163.000000</td>\n",
       "      <td>9.000000</td>\n",
       "      <td>63.000000</td>\n",
       "      <td>3.000000</td>\n",
       "      <td>1.000000</td>\n",
       "    </tr>\n",
       "    <tr>\n",
       "      <th>max</th>\n",
       "      <td>19.900000</td>\n",
       "      <td>278.000000</td>\n",
       "      <td>10.000000</td>\n",
       "      <td>106.000000</td>\n",
       "      <td>7.000000</td>\n",
       "      <td>19.900000</td>\n",
       "      <td>245.000000</td>\n",
       "      <td>10.000000</td>\n",
       "      <td>102.000000</td>\n",
       "      <td>7.000000</td>\n",
       "      <td>1.000000</td>\n",
       "    </tr>\n",
       "  </tbody>\n",
       "</table>\n",
       "</div>"
      ],
      "text/plain": [
       "             ball  total_runs      wicket  total_runs_powerplay  \\\n",
       "count  543.000000  543.000000  543.000000            543.000000   \n",
       "mean    19.477532  163.239411    6.440147             52.953959   \n",
       "std      0.823531   34.237958    2.071510             13.220236   \n",
       "min      9.600000   44.000000    2.000000             21.000000   \n",
       "25%     19.600000  142.000000    5.000000             44.000000   \n",
       "50%     19.600000  163.000000    6.000000             52.000000   \n",
       "75%     19.600000  185.000000    8.000000             61.000000   \n",
       "max     19.900000  278.000000   10.000000            106.000000   \n",
       "\n",
       "       wicket_powerplay   ball_inn2  total_runs_inn2  wicket_inn2  \\\n",
       "count        543.000000  543.000000       543.000000   543.000000   \n",
       "mean           1.694291   17.876243       142.979742     6.121547   \n",
       "std            1.188236    2.643157        32.498220     2.963486   \n",
       "min            0.000000    1.600000        15.000000     0.000000   \n",
       "25%            1.000000   17.200000       125.000000     4.000000   \n",
       "50%            2.000000   19.100000       144.000000     6.000000   \n",
       "75%            2.000000   19.600000       163.000000     9.000000   \n",
       "max            7.000000   19.900000       245.000000    10.000000   \n",
       "\n",
       "       total_runs_powerplay_inn2  wicket_powerplay_inn2  bat_first_win  \n",
       "count                 543.000000             543.000000     543.000000  \n",
       "mean                   52.926335               1.953959       0.534070  \n",
       "std                    14.581939               1.297065       0.499298  \n",
       "min                    15.000000               0.000000       0.000000  \n",
       "25%                    42.000000               1.000000       0.000000  \n",
       "50%                    52.000000               2.000000       1.000000  \n",
       "75%                    63.000000               3.000000       1.000000  \n",
       "max                   102.000000               7.000000       1.000000  "
      ]
     },
     "execution_count": 9,
     "metadata": {},
     "output_type": "execute_result"
    }
   ],
   "source": [
    "# Mean and variance is different for these columns so I will need to scale it\n",
    "df_cluster.describe()"
   ]
  },
  {
   "cell_type": "markdown",
   "id": "44658f96",
   "metadata": {},
   "source": [
    "## Transforming"
   ]
  },
  {
   "cell_type": "code",
   "execution_count": 10,
   "id": "8902b670",
   "metadata": {},
   "outputs": [],
   "source": [
    "## Log Scaling\n",
    "df_transformed_log = np.log(df_cluster[['ball','ball_inn2','wicket','wicket_inn2']])"
   ]
  },
  {
   "cell_type": "code",
   "execution_count": 11,
   "id": "dab28a19",
   "metadata": {},
   "outputs": [],
   "source": [
    "## Cuberoot Scaling\n",
    "df_transformed_cuberoot = (df_cluster[['ball','ball_inn2','wicket','wicket_inn2']])**(1/3)"
   ]
  },
  {
   "cell_type": "code",
   "execution_count": 12,
   "id": "c8f4ae40",
   "metadata": {},
   "outputs": [
    {
     "name": "stdout",
     "output_type": "stream",
     "text": [
      "ball\n",
      "ball_inn2\n",
      "wicket_shift_1\n",
      "wicket_inn2_shift_1\n",
      "wicket_powerplay_shift_1\n",
      "wicket_powerplay_inn2_shift_1\n"
     ]
    }
   ],
   "source": [
    "## Boxcox scaling\n",
    "## Add +1 to the data so that we can apply the boxcox transformation\n",
    "df_cluster['wicket_shift_1'] = df_cluster['wicket'] + 1\n",
    "df_cluster['wicket_inn2_shift_1'] = df_cluster['wicket_inn2'] + 1\n",
    "df_cluster['wicket_powerplay_shift_1'] = df_cluster['wicket_powerplay'] + 1\n",
    "df_cluster['wicket_powerplay_inn2_shift_1'] = df_cluster['wicket_powerplay_inn2'] + 1\n",
    "\n",
    "df_transformed_boxcox = pd.DataFrame([])\n",
    "for column in ['ball','ball_inn2','wicket_shift_1','wicket_inn2_shift_1','wicket_powerplay_shift_1','wicket_powerplay_inn2_shift_1']:\n",
    "    print(column)\n",
    "    fitted_data, fitted_lambda = stats.boxcox(df_cluster[column])\n",
    "    df_transformed_boxcox[column] = fitted_data"
   ]
  },
  {
   "cell_type": "code",
   "execution_count": 13,
   "id": "311ced04",
   "metadata": {},
   "outputs": [
    {
     "data": {
      "image/png": "[encoded data removed]",
      "text/plain": [
       "<Figure size 360x360 with 1 Axes>"
      ]
     },
     "metadata": {
      "needs_background": "light"
     },
     "output_type": "display_data"
    },
    {
     "data": {
      "image/png": "[encoded data removed]",
      "text/plain": [
       "<Figure size 360x360 with 1 Axes>"
      ]
     },
     "metadata": {
      "needs_background": "light"
     },
     "output_type": "display_data"
    },
    {
     "data": {
      "image/png": "[encoded data removed]",
      "text/plain": [
       "<Figure size 360x360 with 1 Axes>"
      ]
     },
     "metadata": {
      "needs_background": "light"
     },
     "output_type": "display_data"
    },
    {
     "data": {
      "image/png": "[encoded data removed]",
      "text/plain": [
       "<Figure size 360x360 with 1 Axes>"
      ]
     },
     "metadata": {
      "needs_background": "light"
     },
     "output_type": "display_data"
    },
    {
     "data": {
      "image/png": "[encoded data removed]",
      "text/plain": [
       "<Figure size 360x360 with 1 Axes>"
      ]
     },
     "metadata": {
      "needs_background": "light"
     },
     "output_type": "display_data"
    },
    {
     "data": {
      "image/png": "[encoded data removed]",
      "text/plain": [
       "<Figure size 360x360 with 1 Axes>"
      ]
     },
     "metadata": {
      "needs_background": "light"
     },
     "output_type": "display_data"
    }
   ],
   "source": [
    "for column in df_transformed_boxcox.columns:\n",
    "    sns.displot(df_transformed_boxcox[column])"
   ]
  },
  {
   "cell_type": "code",
   "execution_count": 14,
   "id": "1c785083",
   "metadata": {},
   "outputs": [
    {
     "data": {
      "image/png": "[encoded data removed]",
      "text/plain": [
       "<Figure size 360x360 with 1 Axes>"
      ]
     },
     "metadata": {
      "needs_background": "light"
     },
     "output_type": "display_data"
    },
    {
     "data": {
      "image/png": "[encoded data removed]",
      "text/plain": [
       "<Figure size 360x360 with 1 Axes>"
      ]
     },
     "metadata": {
      "needs_background": "light"
     },
     "output_type": "display_data"
    },
    {
     "data": {
      "image/png": "[encoded data removed]",
      "text/plain": [
       "<Figure size 360x360 with 1 Axes>"
      ]
     },
     "metadata": {
      "needs_background": "light"
     },
     "output_type": "display_data"
    },
    {
     "data": {
      "image/png": "[encoded data removed]",
      "text/plain": [
       "<Figure size 360x360 with 1 Axes>"
      ]
     },
     "metadata": {
      "needs_background": "light"
     },
     "output_type": "display_data"
    }
   ],
   "source": [
    "for column in df_transformed_cuberoot.columns:\n",
    "    sns.displot(df_transformed_cuberoot[column])"
   ]
  },
  {
   "cell_type": "code",
   "execution_count": 15,
   "id": "b058658c",
   "metadata": {},
   "outputs": [
    {
     "data": {
      "image/png": "[encoded data removed]",
      "text/plain": [
       "<Figure size 360x360 with 1 Axes>"
      ]
     },
     "metadata": {
      "needs_background": "light"
     },
     "output_type": "display_data"
    },
    {
     "data": {
      "image/png": "[encoded data removed]",
      "text/plain": [
       "<Figure size 360x360 with 1 Axes>"
      ]
     },
     "metadata": {
      "needs_background": "light"
     },
     "output_type": "display_data"
    },
    {
     "data": {
      "image/png": "[encoded data removed]",
      "text/plain": [
       "<Figure size 360x360 with 1 Axes>"
      ]
     },
     "metadata": {
      "needs_background": "light"
     },
     "output_type": "display_data"
    },
    {
     "data": {
      "image/png": "[encoded data removed]",
      "text/plain": [
       "<Figure size 360x360 with 1 Axes>"
      ]
     },
     "metadata": {
      "needs_background": "light"
     },
     "output_type": "display_data"
    }
   ],
   "source": [
    "for column in df_transformed_log.columns:\n",
    "    sns.displot(df_transformed_log[column])"
   ]
  },
  {
   "cell_type": "markdown",
   "id": "746de10d",
   "metadata": {},
   "source": [
    "## Boxcox scaling looks like it is the best so that is what we will use"
   ]
  },
  {
   "cell_type": "code",
   "execution_count": 16,
   "id": "804ea6db",
   "metadata": {},
   "outputs": [],
   "source": [
    "## Normalising data\n",
    "df_transformed_boxcox[['total_runs','total_runs_powerplay','total_runs_inn2','total_runs_powerplay_inn2','bat_first_win']] = df_cluster[['total_runs','total_runs_powerplay','total_runs_inn2','total_runs_powerplay_inn2','bat_first_win']]"
   ]
  },
  {
   "cell_type": "code",
   "execution_count": 18,
   "id": "877dd317",
   "metadata": {},
   "outputs": [],
   "source": [
    "df_transformed_boxcox.drop(columns=['ball','ball_inn2'],inplace=True)"
   ]
  },
  {
   "cell_type": "code",
   "execution_count": 19,
   "id": "586110c7",
   "metadata": {},
   "outputs": [],
   "source": [
    "# Scale data\n",
    "# Normalize the variables\n",
    "from sklearn.preprocessing import StandardScaler\n",
    "scaler = StandardScaler()\n",
    "scaler.fit(df_transformed_boxcox)\n",
    "# Store for clustering\n",
    "df_cluster_normalized = pd.DataFrame(scaler.transform(df_transformed_boxcox),index=df_transformed_boxcox.index,columns=df_transformed_boxcox.columns)"
   ]
  },
  {
   "cell_type": "code",
   "execution_count": 21,
   "id": "2a963b19",
   "metadata": {},
   "outputs": [
    {
     "data": {
      "text/html": [
       "<div>\n",
       "<style scoped>\n",
       "    .dataframe tbody tr th:only-of-type {\n",
       "        vertical-align: middle;\n",
       "    }\n",
       "\n",
       "    .dataframe tbody tr th {\n",
       "        vertical-align: top;\n",
       "    }\n",
       "\n",
       "    .dataframe thead th {\n",
       "        text-align: right;\n",
       "    }\n",
       "</style>\n",
       "<table border=\"1\" class=\"dataframe\">\n",
       "  <thead>\n",
       "    <tr style=\"text-align: right;\">\n",
       "      <th></th>\n",
       "      <th>wicket_shift_1</th>\n",
       "      <th>wicket_inn2_shift_1</th>\n",
       "      <th>wicket_powerplay_shift_1</th>\n",
       "      <th>wicket_powerplay_inn2_shift_1</th>\n",
       "      <th>total_runs</th>\n",
       "      <th>total_runs_powerplay</th>\n",
       "      <th>total_runs_inn2</th>\n",
       "      <th>total_runs_powerplay_inn2</th>\n",
       "      <th>bat_first_win</th>\n",
       "    </tr>\n",
       "  </thead>\n",
       "  <tbody>\n",
       "    <tr>\n",
       "      <th>count</th>\n",
       "      <td>5.430000e+02</td>\n",
       "      <td>5.430000e+02</td>\n",
       "      <td>5.430000e+02</td>\n",
       "      <td>5.430000e+02</td>\n",
       "      <td>5.430000e+02</td>\n",
       "      <td>5.430000e+02</td>\n",
       "      <td>5.430000e+02</td>\n",
       "      <td>5.430000e+02</td>\n",
       "      <td>5.430000e+02</td>\n",
       "    </tr>\n",
       "    <tr>\n",
       "      <th>mean</th>\n",
       "      <td>-1.807435e-16</td>\n",
       "      <td>4.544145e-16</td>\n",
       "      <td>5.397769e-17</td>\n",
       "      <td>-3.680297e-18</td>\n",
       "      <td>4.135734e-16</td>\n",
       "      <td>1.779833e-16</td>\n",
       "      <td>3.441589e-16</td>\n",
       "      <td>-1.533457e-16</td>\n",
       "      <td>7.646840e-17</td>\n",
       "    </tr>\n",
       "    <tr>\n",
       "      <th>std</th>\n",
       "      <td>1.000922e+00</td>\n",
       "      <td>1.000922e+00</td>\n",
       "      <td>1.000922e+00</td>\n",
       "      <td>1.000922e+00</td>\n",
       "      <td>1.000922e+00</td>\n",
       "      <td>1.000922e+00</td>\n",
       "      <td>1.000922e+00</td>\n",
       "      <td>1.000922e+00</td>\n",
       "      <td>1.000922e+00</td>\n",
       "    </tr>\n",
       "    <tr>\n",
       "      <th>min</th>\n",
       "      <td>-2.178885e+00</td>\n",
       "      <td>-2.119081e+00</td>\n",
       "      <td>-1.657952e+00</td>\n",
       "      <td>-1.794079e+00</td>\n",
       "      <td>-3.485878e+00</td>\n",
       "      <td>-2.419278e+00</td>\n",
       "      <td>-3.941685e+00</td>\n",
       "      <td>-2.603310e+00</td>\n",
       "      <td>-1.070628e+00</td>\n",
       "    </tr>\n",
       "    <tr>\n",
       "      <th>25%</th>\n",
       "      <td>-6.903418e-01</td>\n",
       "      <td>-7.066781e-01</td>\n",
       "      <td>-4.957229e-01</td>\n",
       "      <td>-6.765238e-01</td>\n",
       "      <td>-6.209189e-01</td>\n",
       "      <td>-6.779165e-01</td>\n",
       "      <td>-5.537633e-01</td>\n",
       "      <td>-7.499970e-01</td>\n",
       "      <td>-1.070628e+00</td>\n",
       "    </tr>\n",
       "    <tr>\n",
       "      <th>50%</th>\n",
       "      <td>-2.046085e-01</td>\n",
       "      <td>-2.881979e-02</td>\n",
       "      <td>3.704618e-01</td>\n",
       "      <td>1.584750e-01</td>\n",
       "      <td>-6.998999e-03</td>\n",
       "      <td>-7.222557e-02</td>\n",
       "      <td>3.142322e-02</td>\n",
       "      <td>-6.358478e-02</td>\n",
       "      <td>9.340309e-01</td>\n",
       "    </tr>\n",
       "    <tr>\n",
       "      <th>75%</th>\n",
       "      <td>7.559177e-01</td>\n",
       "      <td>9.695713e-01</td>\n",
       "      <td>3.704618e-01</td>\n",
       "      <td>8.505254e-01</td>\n",
       "      <td>6.361552e-01</td>\n",
       "      <td>6.091767e-01</td>\n",
       "      <td>6.166097e-01</td>\n",
       "      <td>6.914687e-01</td>\n",
       "      <td>9.340309e-01</td>\n",
       "    </tr>\n",
       "    <tr>\n",
       "      <th>max</th>\n",
       "      <td>1.704675e+00</td>\n",
       "      <td>1.298608e+00</td>\n",
       "      <td>3.243097e+00</td>\n",
       "      <td>2.937115e+00</td>\n",
       "      <td>3.354943e+00</td>\n",
       "      <td>4.016188e+00</td>\n",
       "      <td>3.142151e+00</td>\n",
       "      <td>3.368476e+00</td>\n",
       "      <td>9.340309e-01</td>\n",
       "    </tr>\n",
       "  </tbody>\n",
       "</table>\n",
       "</div>"
      ],
      "text/plain": [
       "       wicket_shift_1  wicket_inn2_shift_1  wicket_powerplay_shift_1  \\\n",
       "count    5.430000e+02         5.430000e+02              5.430000e+02   \n",
       "mean    -1.807435e-16         4.544145e-16              5.397769e-17   \n",
       "std      1.000922e+00         1.000922e+00              1.000922e+00   \n",
       "min     -2.178885e+00        -2.119081e+00             -1.657952e+00   \n",
       "25%     -6.903418e-01        -7.066781e-01             -4.957229e-01   \n",
       "50%     -2.046085e-01        -2.881979e-02              3.704618e-01   \n",
       "75%      7.559177e-01         9.695713e-01              3.704618e-01   \n",
       "max      1.704675e+00         1.298608e+00              3.243097e+00   \n",
       "\n",
       "       wicket_powerplay_inn2_shift_1    total_runs  total_runs_powerplay  \\\n",
       "count                   5.430000e+02  5.430000e+02          5.430000e+02   \n",
       "mean                   -3.680297e-18  4.135734e-16          1.779833e-16   \n",
       "std                     1.000922e+00  1.000922e+00          1.000922e+00   \n",
       "min                    -1.794079e+00 -3.485878e+00         -2.419278e+00   \n",
       "25%                    -6.765238e-01 -6.209189e-01         -6.779165e-01   \n",
       "50%                     1.584750e-01 -6.998999e-03         -7.222557e-02   \n",
       "75%                     8.505254e-01  6.361552e-01          6.091767e-01   \n",
       "max                     2.937115e+00  3.354943e+00          4.016188e+00   \n",
       "\n",
       "       total_runs_inn2  total_runs_powerplay_inn2  bat_first_win  \n",
       "count     5.430000e+02               5.430000e+02   5.430000e+02  \n",
       "mean      3.441589e-16              -1.533457e-16   7.646840e-17  \n",
       "std       1.000922e+00               1.000922e+00   1.000922e+00  \n",
       "min      -3.941685e+00              -2.603310e+00  -1.070628e+00  \n",
       "25%      -5.537633e-01              -7.499970e-01  -1.070628e+00  \n",
       "50%       3.142322e-02              -6.358478e-02   9.340309e-01  \n",
       "75%       6.166097e-01               6.914687e-01   9.340309e-01  \n",
       "max       3.142151e+00               3.368476e+00   9.340309e-01  "
      ]
     },
     "execution_count": 21,
     "metadata": {},
     "output_type": "execute_result"
    }
   ],
   "source": [
    "df_cluster_normalized.describe()"
   ]
  },
  {
   "cell_type": "markdown",
   "id": "49b81b42",
   "metadata": {},
   "source": [
    "## Clustering"
   ]
  },
  {
   "cell_type": "markdown",
   "id": "5858691e",
   "metadata": {},
   "source": [
    "## Find ideal number of clusters"
   ]
  },
  {
   "cell_type": "code",
   "execution_count": 22,
   "id": "84b31c14",
   "metadata": {},
   "outputs": [
    {
     "data": {
      "image/png": "[encoded data removed]",
      "text/plain": [
       "<Figure size 432x288 with 1 Axes>"
      ]
     },
     "metadata": {
      "needs_background": "light"
     },
     "output_type": "display_data"
    }
   ],
   "source": [
    "# Import key libraries\n",
    "from sklearn.cluster import KMeans\n",
    "import seaborn as sns\n",
    "from matplotlib import pyplot as plt\n",
    "# Fit KMeans and calculate SSE for each *k*\n",
    "sse = {}\n",
    "for k in range(2, 11):    \n",
    "    kmeans = KMeans(n_clusters=k, random_state=1)\n",
    "    kmeans.fit(df_cluster_normalized)\n",
    "    sse[k] = kmeans.inertia_ \n",
    "# sum of squared distances to closest cluster center\n",
    "# Plot SSE for each *k*\n",
    "plt.title('The Elbow Method')\n",
    "plt.xlabel('k'); \n",
    "plt.ylabel('SSE')\n",
    "sns.pointplot(x=list(sse.keys()), y=list(sse.values()))\n",
    "plt.show()"
   ]
  },
  {
   "cell_type": "markdown",
   "id": "ce227bb9",
   "metadata": {},
   "source": [
    "## From the above plot it looks like the best number of clusters is between 4-6"
   ]
  },
  {
   "cell_type": "code",
   "execution_count": 23,
   "id": "6c04c54a",
   "metadata": {},
   "outputs": [],
   "source": [
    "## 4 Cluster Segmentation\n",
    "kmeans = KMeans(n_clusters=4,random_state=1)\n",
    "kmeans.fit(df_cluster_normalized)\n",
    "cluster_labels = kmeans.labels_\n",
    "df_cluster_k4 = df_cluster.assign(Cluster=cluster_labels)"
   ]
  },
  {
   "cell_type": "code",
   "execution_count": 24,
   "id": "80c58fcf",
   "metadata": {},
   "outputs": [],
   "source": [
    "## 5 cluster segmentation\n",
    "kmeans = KMeans(n_clusters=5,random_state=1)\n",
    "kmeans.fit(df_cluster_normalized)\n",
    "cluster_labels = kmeans.labels_\n",
    "df_cluster_k5 = df_cluster.assign(Cluster=cluster_labels)"
   ]
  },
  {
   "cell_type": "code",
   "execution_count": 25,
   "id": "b1ef4b57",
   "metadata": {},
   "outputs": [],
   "source": [
    "## 6 cluster segmentation\n",
    "kmeans = KMeans(n_clusters=6,random_state=1)\n",
    "kmeans.fit(df_cluster_normalized)\n",
    "cluster_labels = kmeans.labels_\n",
    "df_cluster_k6 = df_cluster.assign(Cluster=cluster_labels)"
   ]
  }
 ],
 "metadata": {
  "kernelspec": {
   "display_name": "Python 3 (ipykernel)",
   "language": "python",
   "name": "python3"
  },
  "language_info": {
   "codemirror_mode": {
    "name": "ipython",
    "version": 3
   },
   "file_extension": ".py",
   "mimetype": "text/x-python",
   "name": "python",
   "nbconvert_exporter": "python",
   "pygments_lexer": "ipython3",
   "version": "3.9.7"
  }
 },
 "nbformat": 4,
 "nbformat_minor": 5
}
